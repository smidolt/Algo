{
 "cells": [
  {
   "cell_type": "markdown",
   "id": "7c57c89b-b816-470e-8738-5ff630fc9ffc",
   "metadata": {},
   "source": [
    "# Simple crossover with short explanation "
   ]
  },
  {
   "cell_type": "code",
   "execution_count": null,
   "id": "b2b0447e-99da-4726-9594-33f9f4b98e6c",
   "metadata": {
    "scrolled": true
   },
   "outputs": [],
   "source": [
    "import pandas as pd\n",
    "import matplotlib as mp\n",
    "import numpy as np\n",
    "import talib as ta\n",
    "import yfinance  as yf\n",
    "\n",
    "# Load historical price data\n",
    "data = pd.read_csv('1d.csv')\n",
    "data2 = pd.read_csv('1h.csv')\n",
    "# Display the first few rows of the data\n",
    "print(data.head())\n",
    "\n"
   ]
  },
  {
   "cell_type": "markdown",
   "id": "2efd4f4c-9ea4-4de0-a266-e2046a30ba98",
   "metadata": {},
   "source": [
    "### Here I worked with pandas (deleted extra columns)"
   ]
  },
  {
   "cell_type": "code",
   "execution_count": null,
   "id": "5f249aa3-b7f1-49fa-9dd6-b5d6e2415e53",
   "metadata": {},
   "outputs": [],
   "source": [
    "data = data.drop(['Unnamed: 7', 'Unnamed: 8'], axis=1) #rows (axis=0) or columns (axis=1)"
   ]
  },
  {
   "cell_type": "code",
   "execution_count": null,
   "id": "efdb4479-bbd9-4a80-8ae7-ce1e6aed5f2e",
   "metadata": {},
   "outputs": [],
   "source": [
    "data"
   ]
  },
  {
   "cell_type": "code",
   "execution_count": null,
   "id": "79e3e7d0-5c1f-449f-8ff9-42991f13152d",
   "metadata": {},
   "outputs": [],
   "source": [
    "?pd.read_csv #this is a very intresting method to checking some usefull information fast"
   ]
  },
  {
   "cell_type": "markdown",
   "id": "f707f565-d220-4738-bac2-0a2cd1dca175",
   "metadata": {},
   "source": [
    "Here i tried TA-LIB, Yfinance"
   ]
  },
  {
   "cell_type": "code",
   "execution_count": null,
   "id": "12315604-419f-4cac-9b81-4a985d487570",
   "metadata": {},
   "outputs": [],
   "source": [
    "?ta.EMA"
   ]
  },
  {
   "cell_type": "code",
   "execution_count": null,
   "id": "2699a10e-4fdf-402f-bc25-ae6663e32b35",
   "metadata": {},
   "outputs": [],
   "source": [
    "new_data = yf.download('TSLA', start= '2010-01-01', end= '2020-03-18')"
   ]
  },
  {
   "cell_type": "code",
   "execution_count": 19,
   "id": "091a6da7-bad4-4c5e-b014-d2a28c01e71b",
   "metadata": {},
   "outputs": [
    {
     "data": {
      "text/html": [
       "<div>\n",
       "<style scoped>\n",
       "    .dataframe tbody tr th:only-of-type {\n",
       "        vertical-align: middle;\n",
       "    }\n",
       "\n",
       "    .dataframe tbody tr th {\n",
       "        vertical-align: top;\n",
       "    }\n",
       "\n",
       "    .dataframe thead th {\n",
       "        text-align: right;\n",
       "    }\n",
       "</style>\n",
       "<table border=\"1\" class=\"dataframe\">\n",
       "  <thead>\n",
       "    <tr style=\"text-align: right;\">\n",
       "      <th></th>\n",
       "      <th>Open</th>\n",
       "      <th>High</th>\n",
       "      <th>Low</th>\n",
       "      <th>Close</th>\n",
       "      <th>Adj Close</th>\n",
       "      <th>Volume</th>\n",
       "    </tr>\n",
       "    <tr>\n",
       "      <th>Date</th>\n",
       "      <th></th>\n",
       "      <th></th>\n",
       "      <th></th>\n",
       "      <th></th>\n",
       "      <th></th>\n",
       "      <th></th>\n",
       "    </tr>\n",
       "  </thead>\n",
       "  <tbody>\n",
       "    <tr>\n",
       "      <th>2010-06-29</th>\n",
       "      <td>1.266667</td>\n",
       "      <td>1.666667</td>\n",
       "      <td>1.169333</td>\n",
       "      <td>1.592667</td>\n",
       "      <td>1.592667</td>\n",
       "      <td>281494500</td>\n",
       "    </tr>\n",
       "    <tr>\n",
       "      <th>2010-06-30</th>\n",
       "      <td>1.719333</td>\n",
       "      <td>2.028000</td>\n",
       "      <td>1.553333</td>\n",
       "      <td>1.588667</td>\n",
       "      <td>1.588667</td>\n",
       "      <td>257806500</td>\n",
       "    </tr>\n",
       "    <tr>\n",
       "      <th>2010-07-01</th>\n",
       "      <td>1.666667</td>\n",
       "      <td>1.728000</td>\n",
       "      <td>1.351333</td>\n",
       "      <td>1.464000</td>\n",
       "      <td>1.464000</td>\n",
       "      <td>123282000</td>\n",
       "    </tr>\n",
       "    <tr>\n",
       "      <th>2010-07-02</th>\n",
       "      <td>1.533333</td>\n",
       "      <td>1.540000</td>\n",
       "      <td>1.247333</td>\n",
       "      <td>1.280000</td>\n",
       "      <td>1.280000</td>\n",
       "      <td>77097000</td>\n",
       "    </tr>\n",
       "    <tr>\n",
       "      <th>2010-07-06</th>\n",
       "      <td>1.333333</td>\n",
       "      <td>1.333333</td>\n",
       "      <td>1.055333</td>\n",
       "      <td>1.074000</td>\n",
       "      <td>1.074000</td>\n",
       "      <td>103003500</td>\n",
       "    </tr>\n",
       "    <tr>\n",
       "      <th>...</th>\n",
       "      <td>...</td>\n",
       "      <td>...</td>\n",
       "      <td>...</td>\n",
       "      <td>...</td>\n",
       "      <td>...</td>\n",
       "      <td>...</td>\n",
       "    </tr>\n",
       "    <tr>\n",
       "      <th>2020-03-11</th>\n",
       "      <td>42.680000</td>\n",
       "      <td>43.571999</td>\n",
       "      <td>40.866669</td>\n",
       "      <td>42.282001</td>\n",
       "      <td>42.282001</td>\n",
       "      <td>199837500</td>\n",
       "    </tr>\n",
       "    <tr>\n",
       "      <th>2020-03-12</th>\n",
       "      <td>38.726002</td>\n",
       "      <td>39.633331</td>\n",
       "      <td>36.416668</td>\n",
       "      <td>37.369999</td>\n",
       "      <td>37.369999</td>\n",
       "      <td>283636500</td>\n",
       "    </tr>\n",
       "    <tr>\n",
       "      <th>2020-03-13</th>\n",
       "      <td>39.666668</td>\n",
       "      <td>40.504665</td>\n",
       "      <td>33.466667</td>\n",
       "      <td>36.441334</td>\n",
       "      <td>36.441334</td>\n",
       "      <td>339604500</td>\n",
       "    </tr>\n",
       "    <tr>\n",
       "      <th>2020-03-16</th>\n",
       "      <td>31.299999</td>\n",
       "      <td>32.991333</td>\n",
       "      <td>29.478001</td>\n",
       "      <td>29.671333</td>\n",
       "      <td>29.671333</td>\n",
       "      <td>307342500</td>\n",
       "    </tr>\n",
       "    <tr>\n",
       "      <th>2020-03-17</th>\n",
       "      <td>29.334000</td>\n",
       "      <td>31.456667</td>\n",
       "      <td>26.400000</td>\n",
       "      <td>28.680000</td>\n",
       "      <td>28.680000</td>\n",
       "      <td>359919000</td>\n",
       "    </tr>\n",
       "  </tbody>\n",
       "</table>\n",
       "<p>2446 rows × 6 columns</p>\n",
       "</div>"
      ],
      "text/plain": [
       "                 Open       High        Low      Close  Adj Close     Volume\n",
       "Date                                                                        \n",
       "2010-06-29   1.266667   1.666667   1.169333   1.592667   1.592667  281494500\n",
       "2010-06-30   1.719333   2.028000   1.553333   1.588667   1.588667  257806500\n",
       "2010-07-01   1.666667   1.728000   1.351333   1.464000   1.464000  123282000\n",
       "2010-07-02   1.533333   1.540000   1.247333   1.280000   1.280000   77097000\n",
       "2010-07-06   1.333333   1.333333   1.055333   1.074000   1.074000  103003500\n",
       "...               ...        ...        ...        ...        ...        ...\n",
       "2020-03-11  42.680000  43.571999  40.866669  42.282001  42.282001  199837500\n",
       "2020-03-12  38.726002  39.633331  36.416668  37.369999  37.369999  283636500\n",
       "2020-03-13  39.666668  40.504665  33.466667  36.441334  36.441334  339604500\n",
       "2020-03-16  31.299999  32.991333  29.478001  29.671333  29.671333  307342500\n",
       "2020-03-17  29.334000  31.456667  26.400000  28.680000  28.680000  359919000\n",
       "\n",
       "[2446 rows x 6 columns]"
      ]
     },
     "execution_count": 19,
     "metadata": {},
     "output_type": "execute_result"
    }
   ],
   "source": [
    "new_data"
   ]
  },
  {
   "cell_type": "code",
   "execution_count": 18,
   "id": "fbb6273a-3349-41a1-b483-8f4bb819e9c6",
   "metadata": {},
   "outputs": [],
   "source": [
    "aaroon = ta.AROONOSC(new_data['High'],new_data['Low'], timeperiod = 14)                        #USE shift + tab"
   ]
  },
  {
   "cell_type": "code",
   "execution_count": 17,
   "id": "ca0e61ce-1bae-4924-abd6-cf2e16153e8e",
   "metadata": {},
   "outputs": [],
   "source": [
    "# in aaroon oscilator indicator -100 means downward trend "
   ]
  },
  {
   "cell_type": "code",
   "execution_count": 21,
   "id": "afedd29e-1915-44ba-aa08-537edf39da92",
   "metadata": {},
   "outputs": [],
   "source": [
    "cdlengulfing = ta.CDLENGULFING(new_data['Open'],new_data['High'],new_data['Low'],new_data['Close']) #BUT It's much better to use abstract API in talib"
   ]
  },
  {
   "cell_type": "markdown",
   "id": "e27c5222",
   "metadata": {},
   "source": [
    "Data Import: Load the price data from your CSV file into a DataFrame using the pandas.read_csv function. Since you have two files, one with daily data and the other with hourly data, you can choose the appropriate file based on the timeframe you want to work with\n",
    "-----\n",
    "Calculate EMA: Use the talib library or implement a function to calculate the 200 EMA for the price data. Here's an example of how to calculate the EMA of a stock with Python\n",
    "-----\n",
    "Implement the Strategy: Once you have the price data and the EMA values, you can implement the crossover strategy. For a buy signal, you can use the condition \"price > 200 EMA,\" and for a sell signal, the opposite condition can be used\n",
    "-----\n",
    "Backtesting: It's essential to backtest the strategy to evaluate its performance. You can use a simple 5-step framework to backtest your strategy and evaluate its performance\n",
    "-----\n",
    "Visualization: Visualize the price data and the EMA values to gain a better understanding of the strategy's performance. You can use libraries like matplotlib for this purpose\n",
    "-----"
   ]
  },
  {
   "cell_type": "code",
   "execution_count": null,
   "id": "59c632be",
   "metadata": {},
   "outputs": [],
   "source": [
    "!pip install ta-lib"
   ]
  },
  {
   "cell_type": "code",
   "execution_count": null,
   "id": "84951803",
   "metadata": {},
   "outputs": [],
   "source": [
    "import talib\n",
    "# Assuming you have a pandas DataFrame called 'data' with a column 'close' containing the stock's closing prices\n",
    "data[\"200EMA\"] = talib.EMA(data[\"close\"], timeperiod=200)"
   ]
  },
  {
   "cell_type": "code",
   "execution_count": null,
   "id": "6d07e24a",
   "metadata": {},
   "outputs": [],
   "source": []
  },
  {
   "cell_type": "code",
   "execution_count": null,
   "id": "0aff9992-67ab-45a6-b5b6-b18e4b3f2a3b",
   "metadata": {},
   "outputs": [],
   "source": [
    "# Create a column to signal when the price crosses above the 200 EMA\n",
    "data['Signal'] = 0\n",
    "data['Signal'][data['close'] > daych['EMA']] = 1\n",
    "\n",
    "# Create a column to signal when the price crosses below the 200 EMA\n",
    "data['Signal'][data['close'] < daych['EMA']] = -1\n",
    "\n",
    "# Display the data with signals\n",
    "print(data[['close', 'EMA', 'Signal']].head())\n"
   ]
  },
  {
   "cell_type": "code",
   "execution_count": null,
   "id": "64c9eeb5-5926-4032-8313-fc120b039f09",
   "metadata": {},
   "outputs": [],
   "source": [
    "import pandas as pd\n",
    "\n",
    "# Load historical price data\n",
    "daych = pd.read_csv('1d.csv')\n",
    "data = pd.read_csv('1h.csv')\n",
    "\n",
    "# Convert 'time' column to datetime\n",
    "data['time'] = pd.to_datetime(data['time'])\n",
    "daych['time'] = pd.to_datetime(daych['time'])\n",
    "\n",
    "# Set 'time' as the index\n",
    "data.set_index('time', inplace=True)\n",
    "daych.set_index('time', inplace=True)\n",
    "\n",
    "# Create a column to signal when the price crosses above the 200 EMA\n",
    "data['Signal'] = 0\n",
    "data.loc[data['close'] > daych['EMA'], 'Signal'] = 1\n",
    "\n",
    "# Create a column to signal when the price crosses below the 200 EMA\n",
    "data.loc[data['close'] < daych['EMA'], 'Signal'] = -1\n",
    "\n",
    "# Display the data with signals\n",
    "print(data[['close', 'EMA', 'Signal']].head())\n"
   ]
  },
  {
   "cell_type": "code",
   "execution_count": null,
   "id": "733f24e2-eabb-4d23-86da-287567de2919",
   "metadata": {},
   "outputs": [],
   "source": []
  }
 ],
 "metadata": {
  "kernelspec": {
   "display_name": "Python 3 (ipykernel)",
   "language": "python",
   "name": "python3"
  },
  "language_info": {
   "codemirror_mode": {
    "name": "ipython",
    "version": 3
   },
   "file_extension": ".py",
   "mimetype": "text/x-python",
   "name": "python",
   "nbconvert_exporter": "python",
   "pygments_lexer": "ipython3",
   "version": "3.10.13"
  }
 },
 "nbformat": 4,
 "nbformat_minor": 5
}
