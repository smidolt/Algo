{
 "cells": [
  {
   "cell_type": "markdown",
   "id": "7c57c89b-b816-470e-8738-5ff630fc9ffc",
   "metadata": {},
   "source": [
    "# Simple crossover with short explanation "
   ]
  },
  {
   "cell_type": "code",
   "execution_count": 1,
   "id": "b2b0447e-99da-4726-9594-33f9f4b98e6c",
   "metadata": {
    "scrolled": true
   },
   "outputs": [
    {
     "name": "stdout",
     "output_type": "stream",
     "text": [
      "         time     open     high      low    close  EMA  Smoothing Line  \\\n",
      "0  17/08/2017  4261.48  4485.39  4200.74  4285.08  NaN             NaN   \n",
      "1  18/08/2017  4285.08  4371.52  3938.77  4108.37  NaN             NaN   \n",
      "2  19/08/2017  4108.37  4184.69  3850.00  4139.98  NaN             NaN   \n",
      "3  20/08/2017  4120.98  4211.08  4032.62  4086.29  NaN             NaN   \n",
      "4  21/08/2017  4069.13  4119.62  3911.79  4016.00  NaN             NaN   \n",
      "\n",
      "   Unnamed: 7  Unnamed: 8  \n",
      "0         NaN         NaN  \n",
      "1         NaN         NaN  \n",
      "2         NaN         NaN  \n",
      "3         NaN         NaN  \n",
      "4         NaN         NaN  \n"
     ]
    }
   ],
   "source": [
    "import pandas as pd\n",
    "import matplotlib as mp\n",
    "import numpy as np\n",
    "import talib as ta\n",
    "import yfinance  as yf\n",
    "from talib import abstract\n",
    "\n",
    "# Load historical price data\n",
    "data = pd.read_csv('1d.csv')\n",
    "data2 = pd.read_csv('1h.csv')\n",
    "# Display the first few rows of the data\n",
    "print(data.head())\n",
    "\n"
   ]
  },
  {
   "cell_type": "markdown",
   "id": "2efd4f4c-9ea4-4de0-a266-e2046a30ba98",
   "metadata": {},
   "source": [
    "### Here I worked with pandas (deleted extra columns)"
   ]
  },
  {
   "cell_type": "code",
   "execution_count": 2,
   "id": "5f249aa3-b7f1-49fa-9dd6-b5d6e2415e53",
   "metadata": {},
   "outputs": [],
   "source": [
    "data = data.drop(['Unnamed: 7', 'Unnamed: 8'], axis=1) #rows (axis=0) or columns (axis=1)"
   ]
  },
  {
   "cell_type": "code",
   "execution_count": 3,
   "id": "efdb4479-bbd9-4a80-8ae7-ce1e6aed5f2e",
   "metadata": {},
   "outputs": [
    {
     "data": {
      "text/html": [
       "<div>\n",
       "<style scoped>\n",
       "    .dataframe tbody tr th:only-of-type {\n",
       "        vertical-align: middle;\n",
       "    }\n",
       "\n",
       "    .dataframe tbody tr th {\n",
       "        vertical-align: top;\n",
       "    }\n",
       "\n",
       "    .dataframe thead th {\n",
       "        text-align: right;\n",
       "    }\n",
       "</style>\n",
       "<table border=\"1\" class=\"dataframe\">\n",
       "  <thead>\n",
       "    <tr style=\"text-align: right;\">\n",
       "      <th></th>\n",
       "      <th>time</th>\n",
       "      <th>open</th>\n",
       "      <th>high</th>\n",
       "      <th>low</th>\n",
       "      <th>close</th>\n",
       "      <th>EMA</th>\n",
       "      <th>Smoothing Line</th>\n",
       "    </tr>\n",
       "  </thead>\n",
       "  <tbody>\n",
       "    <tr>\n",
       "      <th>0</th>\n",
       "      <td>17/08/2017</td>\n",
       "      <td>4261.48</td>\n",
       "      <td>4485.39</td>\n",
       "      <td>4200.74</td>\n",
       "      <td>4285.08</td>\n",
       "      <td>NaN</td>\n",
       "      <td>NaN</td>\n",
       "    </tr>\n",
       "    <tr>\n",
       "      <th>1</th>\n",
       "      <td>18/08/2017</td>\n",
       "      <td>4285.08</td>\n",
       "      <td>4371.52</td>\n",
       "      <td>3938.77</td>\n",
       "      <td>4108.37</td>\n",
       "      <td>NaN</td>\n",
       "      <td>NaN</td>\n",
       "    </tr>\n",
       "    <tr>\n",
       "      <th>2</th>\n",
       "      <td>19/08/2017</td>\n",
       "      <td>4108.37</td>\n",
       "      <td>4184.69</td>\n",
       "      <td>3850.00</td>\n",
       "      <td>4139.98</td>\n",
       "      <td>NaN</td>\n",
       "      <td>NaN</td>\n",
       "    </tr>\n",
       "    <tr>\n",
       "      <th>3</th>\n",
       "      <td>20/08/2017</td>\n",
       "      <td>4120.98</td>\n",
       "      <td>4211.08</td>\n",
       "      <td>4032.62</td>\n",
       "      <td>4086.29</td>\n",
       "      <td>NaN</td>\n",
       "      <td>NaN</td>\n",
       "    </tr>\n",
       "    <tr>\n",
       "      <th>4</th>\n",
       "      <td>21/08/2017</td>\n",
       "      <td>4069.13</td>\n",
       "      <td>4119.62</td>\n",
       "      <td>3911.79</td>\n",
       "      <td>4016.00</td>\n",
       "      <td>NaN</td>\n",
       "      <td>NaN</td>\n",
       "    </tr>\n",
       "    <tr>\n",
       "      <th>...</th>\n",
       "      <td>...</td>\n",
       "      <td>...</td>\n",
       "      <td>...</td>\n",
       "      <td>...</td>\n",
       "      <td>...</td>\n",
       "      <td>...</td>\n",
       "      <td>...</td>\n",
       "    </tr>\n",
       "    <tr>\n",
       "      <th>2348</th>\n",
       "      <td>21/01/2024</td>\n",
       "      <td>41696.05</td>\n",
       "      <td>41881.39</td>\n",
       "      <td>41500.98</td>\n",
       "      <td>41580.33</td>\n",
       "      <td>35325.312850</td>\n",
       "      <td>35325.312850</td>\n",
       "    </tr>\n",
       "    <tr>\n",
       "      <th>2349</th>\n",
       "      <td>22/01/2024</td>\n",
       "      <td>41580.32</td>\n",
       "      <td>41689.65</td>\n",
       "      <td>39431.58</td>\n",
       "      <td>39568.02</td>\n",
       "      <td>35367.528844</td>\n",
       "      <td>35367.528844</td>\n",
       "    </tr>\n",
       "    <tr>\n",
       "      <th>2350</th>\n",
       "      <td>23/01/2024</td>\n",
       "      <td>39568.02</td>\n",
       "      <td>40176.74</td>\n",
       "      <td>38555.00</td>\n",
       "      <td>39897.60</td>\n",
       "      <td>35412.604179</td>\n",
       "      <td>35412.604179</td>\n",
       "    </tr>\n",
       "    <tr>\n",
       "      <th>2351</th>\n",
       "      <td>24/01/2024</td>\n",
       "      <td>39897.59</td>\n",
       "      <td>40555.00</td>\n",
       "      <td>39484.19</td>\n",
       "      <td>40084.88</td>\n",
       "      <td>35459.094486</td>\n",
       "      <td>35459.094486</td>\n",
       "    </tr>\n",
       "    <tr>\n",
       "      <th>2352</th>\n",
       "      <td>25/01/2024</td>\n",
       "      <td>40084.89</td>\n",
       "      <td>40178.84</td>\n",
       "      <td>39792.01</td>\n",
       "      <td>39885.93</td>\n",
       "      <td>35503.142600</td>\n",
       "      <td>35503.142600</td>\n",
       "    </tr>\n",
       "  </tbody>\n",
       "</table>\n",
       "<p>2353 rows × 7 columns</p>\n",
       "</div>"
      ],
      "text/plain": [
       "            time      open      high       low     close           EMA  \\\n",
       "0     17/08/2017   4261.48   4485.39   4200.74   4285.08           NaN   \n",
       "1     18/08/2017   4285.08   4371.52   3938.77   4108.37           NaN   \n",
       "2     19/08/2017   4108.37   4184.69   3850.00   4139.98           NaN   \n",
       "3     20/08/2017   4120.98   4211.08   4032.62   4086.29           NaN   \n",
       "4     21/08/2017   4069.13   4119.62   3911.79   4016.00           NaN   \n",
       "...          ...       ...       ...       ...       ...           ...   \n",
       "2348  21/01/2024  41696.05  41881.39  41500.98  41580.33  35325.312850   \n",
       "2349  22/01/2024  41580.32  41689.65  39431.58  39568.02  35367.528844   \n",
       "2350  23/01/2024  39568.02  40176.74  38555.00  39897.60  35412.604179   \n",
       "2351  24/01/2024  39897.59  40555.00  39484.19  40084.88  35459.094486   \n",
       "2352  25/01/2024  40084.89  40178.84  39792.01  39885.93  35503.142600   \n",
       "\n",
       "      Smoothing Line  \n",
       "0                NaN  \n",
       "1                NaN  \n",
       "2                NaN  \n",
       "3                NaN  \n",
       "4                NaN  \n",
       "...              ...  \n",
       "2348    35325.312850  \n",
       "2349    35367.528844  \n",
       "2350    35412.604179  \n",
       "2351    35459.094486  \n",
       "2352    35503.142600  \n",
       "\n",
       "[2353 rows x 7 columns]"
      ]
     },
     "execution_count": 3,
     "metadata": {},
     "output_type": "execute_result"
    }
   ],
   "source": [
    "data"
   ]
  },
  {
   "cell_type": "code",
   "execution_count": 4,
   "id": "79e3e7d0-5c1f-449f-8ff9-42991f13152d",
   "metadata": {},
   "outputs": [
    {
     "name": "stdout",
     "output_type": "stream",
     "text": [
      "Object `pd.read_csv #this is a very intresting method to checking some usefull information fast` not found.\n"
     ]
    }
   ],
   "source": [
    "?pd.read_csv #this is a very intresting method to checking some usefull information fast"
   ]
  },
  {
   "cell_type": "markdown",
   "id": "f707f565-d220-4738-bac2-0a2cd1dca175",
   "metadata": {},
   "source": [
    "### Here I tried TA-LIB, Yfinance"
   ]
  },
  {
   "cell_type": "code",
   "execution_count": 5,
   "id": "12315604-419f-4cac-9b81-4a985d487570",
   "metadata": {},
   "outputs": [
    {
     "data": {
      "text/plain": [
       "\u001b[0;31mSignature:\u001b[0m \u001b[0mta\u001b[0m\u001b[0;34m.\u001b[0m\u001b[0mEMA\u001b[0m\u001b[0;34m(\u001b[0m\u001b[0mreal\u001b[0m\u001b[0;34m,\u001b[0m \u001b[0mtimeperiod\u001b[0m\u001b[0;34m=\u001b[0m\u001b[0;34m-\u001b[0m\u001b[0;36m2147483648\u001b[0m\u001b[0;34m)\u001b[0m\u001b[0;34m\u001b[0m\u001b[0;34m\u001b[0m\u001b[0m\n",
       "\u001b[0;31mDocstring:\u001b[0m\n",
       "EMA(real[, timeperiod=?])\n",
       "\n",
       "Exponential Moving Average (Overlap Studies)\n",
       "\n",
       "Inputs:\n",
       "    real: (any ndarray)\n",
       "Parameters:\n",
       "    timeperiod: 30\n",
       "Outputs:\n",
       "    real\n",
       "\u001b[0;31mType:\u001b[0m      function"
      ]
     },
     "metadata": {},
     "output_type": "display_data"
    }
   ],
   "source": [
    "?ta.EMA"
   ]
  },
  {
   "cell_type": "code",
   "execution_count": 6,
   "id": "2699a10e-4fdf-402f-bc25-ae6663e32b35",
   "metadata": {},
   "outputs": [
    {
     "name": "stderr",
     "output_type": "stream",
     "text": [
      "[*********************100%%**********************]  1 of 1 completed\n"
     ]
    }
   ],
   "source": [
    "new_data = yf.download('TSLA', start= '2010-01-01', end= '2020-03-18')"
   ]
  },
  {
   "cell_type": "code",
   "execution_count": 7,
   "id": "091a6da7-bad4-4c5e-b014-d2a28c01e71b",
   "metadata": {},
   "outputs": [
    {
     "data": {
      "text/html": [
       "<div>\n",
       "<style scoped>\n",
       "    .dataframe tbody tr th:only-of-type {\n",
       "        vertical-align: middle;\n",
       "    }\n",
       "\n",
       "    .dataframe tbody tr th {\n",
       "        vertical-align: top;\n",
       "    }\n",
       "\n",
       "    .dataframe thead th {\n",
       "        text-align: right;\n",
       "    }\n",
       "</style>\n",
       "<table border=\"1\" class=\"dataframe\">\n",
       "  <thead>\n",
       "    <tr style=\"text-align: right;\">\n",
       "      <th></th>\n",
       "      <th>Open</th>\n",
       "      <th>High</th>\n",
       "      <th>Low</th>\n",
       "      <th>Close</th>\n",
       "      <th>Adj Close</th>\n",
       "      <th>Volume</th>\n",
       "    </tr>\n",
       "    <tr>\n",
       "      <th>Date</th>\n",
       "      <th></th>\n",
       "      <th></th>\n",
       "      <th></th>\n",
       "      <th></th>\n",
       "      <th></th>\n",
       "      <th></th>\n",
       "    </tr>\n",
       "  </thead>\n",
       "  <tbody>\n",
       "    <tr>\n",
       "      <th>2010-06-29</th>\n",
       "      <td>1.266667</td>\n",
       "      <td>1.666667</td>\n",
       "      <td>1.169333</td>\n",
       "      <td>1.592667</td>\n",
       "      <td>1.592667</td>\n",
       "      <td>281494500</td>\n",
       "    </tr>\n",
       "    <tr>\n",
       "      <th>2010-06-30</th>\n",
       "      <td>1.719333</td>\n",
       "      <td>2.028000</td>\n",
       "      <td>1.553333</td>\n",
       "      <td>1.588667</td>\n",
       "      <td>1.588667</td>\n",
       "      <td>257806500</td>\n",
       "    </tr>\n",
       "    <tr>\n",
       "      <th>2010-07-01</th>\n",
       "      <td>1.666667</td>\n",
       "      <td>1.728000</td>\n",
       "      <td>1.351333</td>\n",
       "      <td>1.464000</td>\n",
       "      <td>1.464000</td>\n",
       "      <td>123282000</td>\n",
       "    </tr>\n",
       "    <tr>\n",
       "      <th>2010-07-02</th>\n",
       "      <td>1.533333</td>\n",
       "      <td>1.540000</td>\n",
       "      <td>1.247333</td>\n",
       "      <td>1.280000</td>\n",
       "      <td>1.280000</td>\n",
       "      <td>77097000</td>\n",
       "    </tr>\n",
       "    <tr>\n",
       "      <th>2010-07-06</th>\n",
       "      <td>1.333333</td>\n",
       "      <td>1.333333</td>\n",
       "      <td>1.055333</td>\n",
       "      <td>1.074000</td>\n",
       "      <td>1.074000</td>\n",
       "      <td>103003500</td>\n",
       "    </tr>\n",
       "    <tr>\n",
       "      <th>...</th>\n",
       "      <td>...</td>\n",
       "      <td>...</td>\n",
       "      <td>...</td>\n",
       "      <td>...</td>\n",
       "      <td>...</td>\n",
       "      <td>...</td>\n",
       "    </tr>\n",
       "    <tr>\n",
       "      <th>2020-03-11</th>\n",
       "      <td>42.680000</td>\n",
       "      <td>43.571999</td>\n",
       "      <td>40.866669</td>\n",
       "      <td>42.282001</td>\n",
       "      <td>42.282001</td>\n",
       "      <td>199837500</td>\n",
       "    </tr>\n",
       "    <tr>\n",
       "      <th>2020-03-12</th>\n",
       "      <td>38.726002</td>\n",
       "      <td>39.633331</td>\n",
       "      <td>36.416668</td>\n",
       "      <td>37.369999</td>\n",
       "      <td>37.369999</td>\n",
       "      <td>283636500</td>\n",
       "    </tr>\n",
       "    <tr>\n",
       "      <th>2020-03-13</th>\n",
       "      <td>39.666668</td>\n",
       "      <td>40.504665</td>\n",
       "      <td>33.466667</td>\n",
       "      <td>36.441334</td>\n",
       "      <td>36.441334</td>\n",
       "      <td>339604500</td>\n",
       "    </tr>\n",
       "    <tr>\n",
       "      <th>2020-03-16</th>\n",
       "      <td>31.299999</td>\n",
       "      <td>32.991333</td>\n",
       "      <td>29.478001</td>\n",
       "      <td>29.671333</td>\n",
       "      <td>29.671333</td>\n",
       "      <td>307342500</td>\n",
       "    </tr>\n",
       "    <tr>\n",
       "      <th>2020-03-17</th>\n",
       "      <td>29.334000</td>\n",
       "      <td>31.456667</td>\n",
       "      <td>26.400000</td>\n",
       "      <td>28.680000</td>\n",
       "      <td>28.680000</td>\n",
       "      <td>359919000</td>\n",
       "    </tr>\n",
       "  </tbody>\n",
       "</table>\n",
       "<p>2446 rows × 6 columns</p>\n",
       "</div>"
      ],
      "text/plain": [
       "                 Open       High        Low      Close  Adj Close     Volume\n",
       "Date                                                                        \n",
       "2010-06-29   1.266667   1.666667   1.169333   1.592667   1.592667  281494500\n",
       "2010-06-30   1.719333   2.028000   1.553333   1.588667   1.588667  257806500\n",
       "2010-07-01   1.666667   1.728000   1.351333   1.464000   1.464000  123282000\n",
       "2010-07-02   1.533333   1.540000   1.247333   1.280000   1.280000   77097000\n",
       "2010-07-06   1.333333   1.333333   1.055333   1.074000   1.074000  103003500\n",
       "...               ...        ...        ...        ...        ...        ...\n",
       "2020-03-11  42.680000  43.571999  40.866669  42.282001  42.282001  199837500\n",
       "2020-03-12  38.726002  39.633331  36.416668  37.369999  37.369999  283636500\n",
       "2020-03-13  39.666668  40.504665  33.466667  36.441334  36.441334  339604500\n",
       "2020-03-16  31.299999  32.991333  29.478001  29.671333  29.671333  307342500\n",
       "2020-03-17  29.334000  31.456667  26.400000  28.680000  28.680000  359919000\n",
       "\n",
       "[2446 rows x 6 columns]"
      ]
     },
     "execution_count": 7,
     "metadata": {},
     "output_type": "execute_result"
    }
   ],
   "source": [
    "new_data"
   ]
  },
  {
   "cell_type": "code",
   "execution_count": 8,
   "id": "fbb6273a-3349-41a1-b483-8f4bb819e9c6",
   "metadata": {},
   "outputs": [],
   "source": [
    "aaroon = ta.AROONOSC(new_data['High'],new_data['Low'], timeperiod = 14)                        #USE shift + tab"
   ]
  },
  {
   "cell_type": "code",
   "execution_count": 9,
   "id": "ca0e61ce-1bae-4924-abd6-cf2e16153e8e",
   "metadata": {},
   "outputs": [],
   "source": [
    "# in aaroon oscilator indicator -100 means downward trend "
   ]
  },
  {
   "cell_type": "code",
   "execution_count": 10,
   "id": "afedd29e-1915-44ba-aa08-537edf39da92",
   "metadata": {},
   "outputs": [],
   "source": [
    "cdlengulfing = ta.CDLENGULFING(new_data['Open'],new_data['High'],new_data['Low'],new_data['Close']) #BUT It's much better to use abstract API in talib"
   ]
  },
  {
   "cell_type": "code",
   "execution_count": 11,
   "id": "4ce29bbf-32a3-41a2-97e7-0dbc5512b59c",
   "metadata": {},
   "outputs": [],
   "source": [
    "data.rename(columns =  {'Open':'open', 'High': 'high', 'Low': 'low', 'Adj Close': 'close', 'Volume' : 'volume'},inplace = True ) #name converter"
   ]
  },
  {
   "cell_type": "code",
   "execution_count": 12,
   "id": "3fcb54ba-1236-4bf0-ad8b-e5836fd221a9",
   "metadata": {},
   "outputs": [
    {
     "data": {
      "text/html": [
       "<div>\n",
       "<style scoped>\n",
       "    .dataframe tbody tr th:only-of-type {\n",
       "        vertical-align: middle;\n",
       "    }\n",
       "\n",
       "    .dataframe tbody tr th {\n",
       "        vertical-align: top;\n",
       "    }\n",
       "\n",
       "    .dataframe thead th {\n",
       "        text-align: right;\n",
       "    }\n",
       "</style>\n",
       "<table border=\"1\" class=\"dataframe\">\n",
       "  <thead>\n",
       "    <tr style=\"text-align: right;\">\n",
       "      <th></th>\n",
       "      <th>time</th>\n",
       "      <th>open</th>\n",
       "      <th>high</th>\n",
       "      <th>low</th>\n",
       "      <th>close</th>\n",
       "      <th>EMA</th>\n",
       "      <th>Smoothing Line</th>\n",
       "    </tr>\n",
       "  </thead>\n",
       "  <tbody>\n",
       "    <tr>\n",
       "      <th>0</th>\n",
       "      <td>17/08/2017</td>\n",
       "      <td>4261.48</td>\n",
       "      <td>4485.39</td>\n",
       "      <td>4200.74</td>\n",
       "      <td>4285.08</td>\n",
       "      <td>NaN</td>\n",
       "      <td>NaN</td>\n",
       "    </tr>\n",
       "    <tr>\n",
       "      <th>1</th>\n",
       "      <td>18/08/2017</td>\n",
       "      <td>4285.08</td>\n",
       "      <td>4371.52</td>\n",
       "      <td>3938.77</td>\n",
       "      <td>4108.37</td>\n",
       "      <td>NaN</td>\n",
       "      <td>NaN</td>\n",
       "    </tr>\n",
       "    <tr>\n",
       "      <th>2</th>\n",
       "      <td>19/08/2017</td>\n",
       "      <td>4108.37</td>\n",
       "      <td>4184.69</td>\n",
       "      <td>3850.00</td>\n",
       "      <td>4139.98</td>\n",
       "      <td>NaN</td>\n",
       "      <td>NaN</td>\n",
       "    </tr>\n",
       "    <tr>\n",
       "      <th>3</th>\n",
       "      <td>20/08/2017</td>\n",
       "      <td>4120.98</td>\n",
       "      <td>4211.08</td>\n",
       "      <td>4032.62</td>\n",
       "      <td>4086.29</td>\n",
       "      <td>NaN</td>\n",
       "      <td>NaN</td>\n",
       "    </tr>\n",
       "    <tr>\n",
       "      <th>4</th>\n",
       "      <td>21/08/2017</td>\n",
       "      <td>4069.13</td>\n",
       "      <td>4119.62</td>\n",
       "      <td>3911.79</td>\n",
       "      <td>4016.00</td>\n",
       "      <td>NaN</td>\n",
       "      <td>NaN</td>\n",
       "    </tr>\n",
       "    <tr>\n",
       "      <th>...</th>\n",
       "      <td>...</td>\n",
       "      <td>...</td>\n",
       "      <td>...</td>\n",
       "      <td>...</td>\n",
       "      <td>...</td>\n",
       "      <td>...</td>\n",
       "      <td>...</td>\n",
       "    </tr>\n",
       "    <tr>\n",
       "      <th>2348</th>\n",
       "      <td>21/01/2024</td>\n",
       "      <td>41696.05</td>\n",
       "      <td>41881.39</td>\n",
       "      <td>41500.98</td>\n",
       "      <td>41580.33</td>\n",
       "      <td>35325.312850</td>\n",
       "      <td>35325.312850</td>\n",
       "    </tr>\n",
       "    <tr>\n",
       "      <th>2349</th>\n",
       "      <td>22/01/2024</td>\n",
       "      <td>41580.32</td>\n",
       "      <td>41689.65</td>\n",
       "      <td>39431.58</td>\n",
       "      <td>39568.02</td>\n",
       "      <td>35367.528844</td>\n",
       "      <td>35367.528844</td>\n",
       "    </tr>\n",
       "    <tr>\n",
       "      <th>2350</th>\n",
       "      <td>23/01/2024</td>\n",
       "      <td>39568.02</td>\n",
       "      <td>40176.74</td>\n",
       "      <td>38555.00</td>\n",
       "      <td>39897.60</td>\n",
       "      <td>35412.604179</td>\n",
       "      <td>35412.604179</td>\n",
       "    </tr>\n",
       "    <tr>\n",
       "      <th>2351</th>\n",
       "      <td>24/01/2024</td>\n",
       "      <td>39897.59</td>\n",
       "      <td>40555.00</td>\n",
       "      <td>39484.19</td>\n",
       "      <td>40084.88</td>\n",
       "      <td>35459.094486</td>\n",
       "      <td>35459.094486</td>\n",
       "    </tr>\n",
       "    <tr>\n",
       "      <th>2352</th>\n",
       "      <td>25/01/2024</td>\n",
       "      <td>40084.89</td>\n",
       "      <td>40178.84</td>\n",
       "      <td>39792.01</td>\n",
       "      <td>39885.93</td>\n",
       "      <td>35503.142600</td>\n",
       "      <td>35503.142600</td>\n",
       "    </tr>\n",
       "  </tbody>\n",
       "</table>\n",
       "<p>2353 rows × 7 columns</p>\n",
       "</div>"
      ],
      "text/plain": [
       "            time      open      high       low     close           EMA  \\\n",
       "0     17/08/2017   4261.48   4485.39   4200.74   4285.08           NaN   \n",
       "1     18/08/2017   4285.08   4371.52   3938.77   4108.37           NaN   \n",
       "2     19/08/2017   4108.37   4184.69   3850.00   4139.98           NaN   \n",
       "3     20/08/2017   4120.98   4211.08   4032.62   4086.29           NaN   \n",
       "4     21/08/2017   4069.13   4119.62   3911.79   4016.00           NaN   \n",
       "...          ...       ...       ...       ...       ...           ...   \n",
       "2348  21/01/2024  41696.05  41881.39  41500.98  41580.33  35325.312850   \n",
       "2349  22/01/2024  41580.32  41689.65  39431.58  39568.02  35367.528844   \n",
       "2350  23/01/2024  39568.02  40176.74  38555.00  39897.60  35412.604179   \n",
       "2351  24/01/2024  39897.59  40555.00  39484.19  40084.88  35459.094486   \n",
       "2352  25/01/2024  40084.89  40178.84  39792.01  39885.93  35503.142600   \n",
       "\n",
       "      Smoothing Line  \n",
       "0                NaN  \n",
       "1                NaN  \n",
       "2                NaN  \n",
       "3                NaN  \n",
       "4                NaN  \n",
       "...              ...  \n",
       "2348    35325.312850  \n",
       "2349    35367.528844  \n",
       "2350    35412.604179  \n",
       "2351    35459.094486  \n",
       "2352    35503.142600  \n",
       "\n",
       "[2353 rows x 7 columns]"
      ]
     },
     "execution_count": 12,
     "metadata": {},
     "output_type": "execute_result"
    }
   ],
   "source": [
    "data"
   ]
  },
  {
   "cell_type": "markdown",
   "id": "46f7bb21-325b-4609-95f2-9f94f581677c",
   "metadata": {},
   "source": [
    "### Abstract function in Talib"
   ]
  },
  {
   "cell_type": "markdown",
   "id": "2e90c6ad-a038-4d78-bba5-52a9f33d22ef",
   "metadata": {},
   "source": [
    "aaroon = ta.AROONOSC(new_data['High'],new_data['Low'], timeperiod = 14)   "
   ]
  },
  {
   "cell_type": "code",
   "execution_count": 13,
   "id": "d5337aeb-ec77-4a1e-ad19-4052f167f2c0",
   "metadata": {},
   "outputs": [],
   "source": [
    "EMA_abstract = abstract.EMA(data, timeperiod=100) #It's much shorter and more convenient"
   ]
  },
  {
   "cell_type": "code",
   "execution_count": 14,
   "id": "e6e068e4-16bb-48f7-8173-73af897b0b70",
   "metadata": {
    "scrolled": true
   },
   "outputs": [
    {
     "data": {
      "text/plain": [
       "0                NaN\n",
       "1                NaN\n",
       "2                NaN\n",
       "3                NaN\n",
       "4                NaN\n",
       "            ...     \n",
       "2348    39271.101515\n",
       "2349    39276.981089\n",
       "2350    39289.270572\n",
       "2351    39305.025214\n",
       "2352    39316.528279\n",
       "Length: 2353, dtype: float64"
      ]
     },
     "execution_count": 14,
     "metadata": {},
     "output_type": "execute_result"
    }
   ],
   "source": [
    "EMA_abstract"
   ]
  },
  {
   "cell_type": "markdown",
   "id": "65adacf2-44d5-4139-b948-216b60779360",
   "metadata": {},
   "source": [
    "### Pandas-ta"
   ]
  },
  {
   "cell_type": "code",
   "execution_count": 15,
   "id": "df0ca941-5c44-47ff-9a85-d33587ecdb43",
   "metadata": {
    "scrolled": true
   },
   "outputs": [
    {
     "name": "stdout",
     "output_type": "stream",
     "text": [
      "Requirement already satisfied: pandas-ta in /Users/smidolt/anaconda3/envs/Newona/lib/python3.10/site-packages (0.3.14b0)\n",
      "Requirement already satisfied: pandas in /Users/smidolt/anaconda3/envs/Newona/lib/python3.10/site-packages (from pandas-ta) (2.1.4)\n",
      "Requirement already satisfied: numpy<2,>=1.22.4 in /Users/smidolt/anaconda3/envs/Newona/lib/python3.10/site-packages (from pandas->pandas-ta) (1.26.3)\n",
      "Requirement already satisfied: python-dateutil>=2.8.2 in /Users/smidolt/anaconda3/envs/Newona/lib/python3.10/site-packages (from pandas->pandas-ta) (2.8.2)\n",
      "Requirement already satisfied: pytz>=2020.1 in /Users/smidolt/anaconda3/envs/Newona/lib/python3.10/site-packages (from pandas->pandas-ta) (2023.3.post1)\n",
      "Requirement already satisfied: tzdata>=2022.1 in /Users/smidolt/anaconda3/envs/Newona/lib/python3.10/site-packages (from pandas->pandas-ta) (2023.4)\n",
      "Requirement already satisfied: six>=1.5 in /Users/smidolt/anaconda3/envs/Newona/lib/python3.10/site-packages (from python-dateutil>=2.8.2->pandas->pandas-ta) (1.16.0)\n",
      "Note: you may need to restart the kernel to use updated packages.\n"
     ]
    }
   ],
   "source": [
    "pip install pandas-ta"
   ]
  },
  {
   "cell_type": "code",
   "execution_count": 16,
   "id": "3e00d153-5781-4312-a813-6e8dac6635b7",
   "metadata": {},
   "outputs": [],
   "source": [
    "import pandas_ta as ta"
   ]
  },
  {
   "cell_type": "code",
   "execution_count": 17,
   "id": "8db2ff59-08c6-47de-bf99-98d980383e24",
   "metadata": {},
   "outputs": [],
   "source": [
    "df = pd.DataFrame()"
   ]
  },
  {
   "cell_type": "code",
   "execution_count": 18,
   "id": "996dc3ab-ec26-44fb-8cd2-5571fc4d644f",
   "metadata": {},
   "outputs": [],
   "source": [
    "df = df.ta.ticker('AAPL', period = '5y')"
   ]
  },
  {
   "cell_type": "code",
   "execution_count": 19,
   "id": "eb9b885b-d426-44ac-b8ae-70b40fc02e89",
   "metadata": {
    "scrolled": true
   },
   "outputs": [
    {
     "data": {
      "text/plain": [
       "Date\n",
       "2019-02-07 00:00:00-05:00    0.000000\n",
       "2019-02-08 00:00:00-05:00    0.001174\n",
       "2019-02-11 00:00:00-05:00   -0.004593\n",
       "2019-02-12 00:00:00-05:00    0.003987\n",
       "2019-02-13 00:00:00-05:00   -0.000176\n",
       "                               ...   \n",
       "2024-01-31 00:00:00-05:00    1.503108\n",
       "2024-02-01 00:00:00-05:00    1.516360\n",
       "2024-02-02 00:00:00-05:00    1.510941\n",
       "2024-02-05 00:00:00-05:00    1.520739\n",
       "2024-02-06 00:00:00-05:00    1.529334\n",
       "Name: CUMLOGRET_1, Length: 1258, dtype: float64"
      ]
     },
     "execution_count": 19,
     "metadata": {},
     "output_type": "execute_result"
    }
   ],
   "source": [
    "df.ta.log_return(cumulative=True, append = True)"
   ]
  },
  {
   "cell_type": "code",
   "execution_count": 20,
   "id": "dc3b1791-a9d1-4f47-976c-d9ef0465bd95",
   "metadata": {},
   "outputs": [
    {
     "data": {
      "text/plain": [
       "Date\n",
       "2019-02-07 00:00:00-05:00           NaN\n",
       "2019-02-08 00:00:00-05:00           NaN\n",
       "2019-02-11 00:00:00-05:00           NaN\n",
       "2019-02-12 00:00:00-05:00           NaN\n",
       "2019-02-13 00:00:00-05:00           NaN\n",
       "                                ...    \n",
       "2024-01-31 00:00:00-05:00    179.688249\n",
       "2024-02-01 00:00:00-05:00    179.759610\n",
       "2024-02-02 00:00:00-05:00    179.820211\n",
       "2024-02-05 00:00:00-05:00    179.898417\n",
       "2024-02-06 00:00:00-05:00    179.991966\n",
       "Name: EMA_200, Length: 1258, dtype: float64"
      ]
     },
     "execution_count": 20,
     "metadata": {},
     "output_type": "execute_result"
    }
   ],
   "source": [
    "df.ta.ema(200, cumulative=True, append = True)"
   ]
  },
  {
   "cell_type": "code",
   "execution_count": 21,
   "id": "31f72bda-8b51-419e-81eb-5b3514a44aaa",
   "metadata": {},
   "outputs": [
    {
     "data": {
      "text/html": [
       "<div>\n",
       "<style scoped>\n",
       "    .dataframe tbody tr th:only-of-type {\n",
       "        vertical-align: middle;\n",
       "    }\n",
       "\n",
       "    .dataframe tbody tr th {\n",
       "        vertical-align: top;\n",
       "    }\n",
       "\n",
       "    .dataframe thead th {\n",
       "        text-align: right;\n",
       "    }\n",
       "</style>\n",
       "<table border=\"1\" class=\"dataframe\">\n",
       "  <thead>\n",
       "    <tr style=\"text-align: right;\">\n",
       "      <th></th>\n",
       "      <th>Open</th>\n",
       "      <th>High</th>\n",
       "      <th>Low</th>\n",
       "      <th>Close</th>\n",
       "      <th>Volume</th>\n",
       "      <th>Dividends</th>\n",
       "      <th>Stock Splits</th>\n",
       "      <th>CUMLOGRET_1</th>\n",
       "      <th>EMA_200</th>\n",
       "    </tr>\n",
       "    <tr>\n",
       "      <th>Date</th>\n",
       "      <th></th>\n",
       "      <th></th>\n",
       "      <th></th>\n",
       "      <th></th>\n",
       "      <th></th>\n",
       "      <th></th>\n",
       "      <th></th>\n",
       "      <th></th>\n",
       "      <th></th>\n",
       "    </tr>\n",
       "  </thead>\n",
       "  <tbody>\n",
       "    <tr>\n",
       "      <th>2019-02-07 00:00:00-05:00</th>\n",
       "      <td>41.367846</td>\n",
       "      <td>41.737375</td>\n",
       "      <td>40.873544</td>\n",
       "      <td>41.017517</td>\n",
       "      <td>126966800</td>\n",
       "      <td>0.0000</td>\n",
       "      <td>0.0</td>\n",
       "      <td>0.000000</td>\n",
       "      <td>NaN</td>\n",
       "    </tr>\n",
       "    <tr>\n",
       "      <th>2019-02-08 00:00:00-05:00</th>\n",
       "      <td>40.723514</td>\n",
       "      <td>41.125954</td>\n",
       "      <td>40.586153</td>\n",
       "      <td>41.065708</td>\n",
       "      <td>95280000</td>\n",
       "      <td>0.1825</td>\n",
       "      <td>0.0</td>\n",
       "      <td>0.001174</td>\n",
       "      <td>NaN</td>\n",
       "    </tr>\n",
       "    <tr>\n",
       "      <th>2019-02-11 00:00:00-05:00</th>\n",
       "      <td>41.219941</td>\n",
       "      <td>41.258499</td>\n",
       "      <td>40.786173</td>\n",
       "      <td>40.829548</td>\n",
       "      <td>83973600</td>\n",
       "      <td>0.0000</td>\n",
       "      <td>0.0</td>\n",
       "      <td>-0.004593</td>\n",
       "      <td>NaN</td>\n",
       "    </tr>\n",
       "    <tr>\n",
       "      <th>2019-02-12 00:00:00-05:00</th>\n",
       "      <td>40.991015</td>\n",
       "      <td>41.207897</td>\n",
       "      <td>40.894620</td>\n",
       "      <td>41.181389</td>\n",
       "      <td>89134000</td>\n",
       "      <td>0.0000</td>\n",
       "      <td>0.0</td>\n",
       "      <td>0.003987</td>\n",
       "      <td>NaN</td>\n",
       "    </tr>\n",
       "    <tr>\n",
       "      <th>2019-02-13 00:00:00-05:00</th>\n",
       "      <td>41.301870</td>\n",
       "      <td>41.564539</td>\n",
       "      <td>40.947627</td>\n",
       "      <td>41.010281</td>\n",
       "      <td>89960800</td>\n",
       "      <td>0.0000</td>\n",
       "      <td>0.0</td>\n",
       "      <td>-0.000176</td>\n",
       "      <td>NaN</td>\n",
       "    </tr>\n",
       "    <tr>\n",
       "      <th>...</th>\n",
       "      <td>...</td>\n",
       "      <td>...</td>\n",
       "      <td>...</td>\n",
       "      <td>...</td>\n",
       "      <td>...</td>\n",
       "      <td>...</td>\n",
       "      <td>...</td>\n",
       "      <td>...</td>\n",
       "      <td>...</td>\n",
       "    </tr>\n",
       "    <tr>\n",
       "      <th>2024-01-31 00:00:00-05:00</th>\n",
       "      <td>187.039993</td>\n",
       "      <td>187.100006</td>\n",
       "      <td>184.350006</td>\n",
       "      <td>184.399994</td>\n",
       "      <td>55467800</td>\n",
       "      <td>0.0000</td>\n",
       "      <td>0.0</td>\n",
       "      <td>1.503108</td>\n",
       "      <td>179.688249</td>\n",
       "    </tr>\n",
       "    <tr>\n",
       "      <th>2024-02-01 00:00:00-05:00</th>\n",
       "      <td>183.990005</td>\n",
       "      <td>186.949997</td>\n",
       "      <td>183.820007</td>\n",
       "      <td>186.860001</td>\n",
       "      <td>64885400</td>\n",
       "      <td>0.0000</td>\n",
       "      <td>0.0</td>\n",
       "      <td>1.516360</td>\n",
       "      <td>179.759610</td>\n",
       "    </tr>\n",
       "    <tr>\n",
       "      <th>2024-02-02 00:00:00-05:00</th>\n",
       "      <td>179.860001</td>\n",
       "      <td>187.330002</td>\n",
       "      <td>179.250000</td>\n",
       "      <td>185.850006</td>\n",
       "      <td>102518000</td>\n",
       "      <td>0.0000</td>\n",
       "      <td>0.0</td>\n",
       "      <td>1.510941</td>\n",
       "      <td>179.820211</td>\n",
       "    </tr>\n",
       "    <tr>\n",
       "      <th>2024-02-05 00:00:00-05:00</th>\n",
       "      <td>188.149994</td>\n",
       "      <td>189.250000</td>\n",
       "      <td>185.839996</td>\n",
       "      <td>187.679993</td>\n",
       "      <td>69668800</td>\n",
       "      <td>0.0000</td>\n",
       "      <td>0.0</td>\n",
       "      <td>1.520739</td>\n",
       "      <td>179.898417</td>\n",
       "    </tr>\n",
       "    <tr>\n",
       "      <th>2024-02-06 00:00:00-05:00</th>\n",
       "      <td>186.860001</td>\n",
       "      <td>189.309998</td>\n",
       "      <td>186.770004</td>\n",
       "      <td>189.300003</td>\n",
       "      <td>43309800</td>\n",
       "      <td>0.0000</td>\n",
       "      <td>0.0</td>\n",
       "      <td>1.529334</td>\n",
       "      <td>179.991966</td>\n",
       "    </tr>\n",
       "  </tbody>\n",
       "</table>\n",
       "<p>1258 rows × 9 columns</p>\n",
       "</div>"
      ],
      "text/plain": [
       "                                 Open        High         Low       Close  \\\n",
       "Date                                                                        \n",
       "2019-02-07 00:00:00-05:00   41.367846   41.737375   40.873544   41.017517   \n",
       "2019-02-08 00:00:00-05:00   40.723514   41.125954   40.586153   41.065708   \n",
       "2019-02-11 00:00:00-05:00   41.219941   41.258499   40.786173   40.829548   \n",
       "2019-02-12 00:00:00-05:00   40.991015   41.207897   40.894620   41.181389   \n",
       "2019-02-13 00:00:00-05:00   41.301870   41.564539   40.947627   41.010281   \n",
       "...                               ...         ...         ...         ...   \n",
       "2024-01-31 00:00:00-05:00  187.039993  187.100006  184.350006  184.399994   \n",
       "2024-02-01 00:00:00-05:00  183.990005  186.949997  183.820007  186.860001   \n",
       "2024-02-02 00:00:00-05:00  179.860001  187.330002  179.250000  185.850006   \n",
       "2024-02-05 00:00:00-05:00  188.149994  189.250000  185.839996  187.679993   \n",
       "2024-02-06 00:00:00-05:00  186.860001  189.309998  186.770004  189.300003   \n",
       "\n",
       "                              Volume  Dividends  Stock Splits  CUMLOGRET_1  \\\n",
       "Date                                                                         \n",
       "2019-02-07 00:00:00-05:00  126966800     0.0000           0.0     0.000000   \n",
       "2019-02-08 00:00:00-05:00   95280000     0.1825           0.0     0.001174   \n",
       "2019-02-11 00:00:00-05:00   83973600     0.0000           0.0    -0.004593   \n",
       "2019-02-12 00:00:00-05:00   89134000     0.0000           0.0     0.003987   \n",
       "2019-02-13 00:00:00-05:00   89960800     0.0000           0.0    -0.000176   \n",
       "...                              ...        ...           ...          ...   \n",
       "2024-01-31 00:00:00-05:00   55467800     0.0000           0.0     1.503108   \n",
       "2024-02-01 00:00:00-05:00   64885400     0.0000           0.0     1.516360   \n",
       "2024-02-02 00:00:00-05:00  102518000     0.0000           0.0     1.510941   \n",
       "2024-02-05 00:00:00-05:00   69668800     0.0000           0.0     1.520739   \n",
       "2024-02-06 00:00:00-05:00   43309800     0.0000           0.0     1.529334   \n",
       "\n",
       "                              EMA_200  \n",
       "Date                                   \n",
       "2019-02-07 00:00:00-05:00         NaN  \n",
       "2019-02-08 00:00:00-05:00         NaN  \n",
       "2019-02-11 00:00:00-05:00         NaN  \n",
       "2019-02-12 00:00:00-05:00         NaN  \n",
       "2019-02-13 00:00:00-05:00         NaN  \n",
       "...                               ...  \n",
       "2024-01-31 00:00:00-05:00  179.688249  \n",
       "2024-02-01 00:00:00-05:00  179.759610  \n",
       "2024-02-02 00:00:00-05:00  179.820211  \n",
       "2024-02-05 00:00:00-05:00  179.898417  \n",
       "2024-02-06 00:00:00-05:00  179.991966  \n",
       "\n",
       "[1258 rows x 9 columns]"
      ]
     },
     "execution_count": 21,
     "metadata": {},
     "output_type": "execute_result"
    }
   ],
   "source": [
    "df"
   ]
  },
  {
   "cell_type": "code",
   "execution_count": 22,
   "id": "8cc161e7-d3e7-4649-9d73-d70c2c4ceff1",
   "metadata": {},
   "outputs": [
    {
     "name": "stdout",
     "output_type": "stream",
     "text": [
      "Pandas TA - Technical Analysis Indicators - v0.3.14b0\n",
      "Total Indicators & Utilities: 205\n",
      "Abbreviations:\n",
      "    aberration, above, above_value, accbands, ad, adosc, adx, alma, amat, ao, aobv, apo, aroon, atr, bbands, below, below_value, bias, bop, brar, cci, cdl_pattern, cdl_z, cfo, cg, chop, cksp, cmf, cmo, coppock, cross, cross_value, cti, decay, decreasing, dema, dm, donchian, dpo, ebsw, efi, ema, entropy, eom, er, eri, fisher, fwma, ha, hilo, hl2, hlc3, hma, hwc, hwma, ichimoku, increasing, inertia, jma, kama, kc, kdj, kst, kurtosis, kvo, linreg, log_return, long_run, macd, mad, massi, mcgd, median, mfi, midpoint, midprice, mom, natr, nvi, obv, ohlc4, pdist, percent_return, pgo, ppo, psar, psl, pvi, pvo, pvol, pvr, pvt, pwma, qqe, qstick, quantile, rma, roc, rsi, rsx, rvgi, rvi, short_run, sinwma, skew, slope, sma, smi, squeeze, squeeze_pro, ssf, stc, stdev, stoch, stochrsi, supertrend, swma, t3, td_seq, tema, thermo, tos_stdevall, trima, trix, true_range, tsi, tsignals, ttm_trend, ui, uo, variance, vhf, vidya, vortex, vp, vwap, vwma, wcp, willr, wma, xsignals, zlma, zscore\n",
      "\n",
      "Candle Patterns:\n",
      "    2crows, 3blackcrows, 3inside, 3linestrike, 3outside, 3starsinsouth, 3whitesoldiers, abandonedbaby, advanceblock, belthold, breakaway, closingmarubozu, concealbabyswall, counterattack, darkcloudcover, doji, dojistar, dragonflydoji, engulfing, eveningdojistar, eveningstar, gapsidesidewhite, gravestonedoji, hammer, hangingman, harami, haramicross, highwave, hikkake, hikkakemod, homingpigeon, identical3crows, inneck, inside, invertedhammer, kicking, kickingbylength, ladderbottom, longleggeddoji, longline, marubozu, matchinglow, mathold, morningdojistar, morningstar, onneck, piercing, rickshawman, risefall3methods, separatinglines, shootingstar, shortline, spinningtop, stalledpattern, sticksandwich, takuri, tasukigap, thrusting, tristar, unique3river, upsidegap2crows, xsidegap3methods\n"
     ]
    }
   ],
   "source": [
    "df.ta.indicators()"
   ]
  },
  {
   "cell_type": "markdown",
   "id": "f80b8735-57f3-40da-92bb-90efa5365ef6",
   "metadata": {},
   "source": [
    "### Pandas-ta strategies"
   ]
  },
  {
   "cell_type": "code",
   "execution_count": 23,
   "id": "6c8c4f17-8d60-4d3a-b635-58ca1cb27a25",
   "metadata": {},
   "outputs": [],
   "source": [
    "# (1) (example from https://github.com/twopirllc/pandas-ta?tab=readme-ov-file#pandas-ta-strategy)\n",
    "MyStrategy = ta.Strategy(\n",
    "    name=\"DCSMA10\",\n",
    "    ta=[\n",
    "        {\"kind\": \"ohlc4\"},\n",
    "        {\"kind\": \"sma\", \"length\": 10},\n",
    "        {\"kind\": \"donchian\", \"lower_length\": 10, \"upper_length\": 15},\n",
    "        {\"kind\": \"ema\", \"close\": \"OHLC4\", \"length\": 10, \"suffix\": \"OHLC4\"},\n",
    "    ]\n",
    ")\n",
    "df.ta.strategy(MyStrategy)"
   ]
  },
  {
   "cell_type": "code",
   "execution_count": 24,
   "id": "50f60316-0530-4d37-a395-fab5f342c1e3",
   "metadata": {},
   "outputs": [],
   "source": [
    "inf = df.ta.categories"
   ]
  },
  {
   "cell_type": "code",
   "execution_count": 25,
   "id": "14c5f530-534e-47b4-bdeb-f1bb17b95261",
   "metadata": {
    "scrolled": true
   },
   "outputs": [
    {
     "data": {
      "text/plain": [
       "['candles',\n",
       " 'cycles',\n",
       " 'momentum',\n",
       " 'overlap',\n",
       " 'performance',\n",
       " 'statistics',\n",
       " 'trend',\n",
       " 'volatility',\n",
       " 'volume']"
      ]
     },
     "execution_count": 25,
     "metadata": {},
     "output_type": "execute_result"
    }
   ],
   "source": [
    "inf"
   ]
  },
  {
   "cell_type": "code",
   "execution_count": 26,
   "id": "df2933ea-e46f-4b76-bd1a-642495b84a3c",
   "metadata": {},
   "outputs": [
    {
     "name": "stdout",
     "output_type": "stream",
     "text": [
      "[X] Not an available strategy.\n"
     ]
    }
   ],
   "source": [
    "df.ta.strategy(5)"
   ]
  },
  {
   "cell_type": "markdown",
   "id": "e27c5222",
   "metadata": {},
   "source": [
    "### Work plan"
   ]
  },
  {
   "cell_type": "markdown",
   "id": "22268bae-7bf6-4ac6-94fa-fa2fcaab2e0c",
   "metadata": {},
   "source": [
    "Data Import: Load the price data from your CSV file into a DataFrame using the pandas.read_csv function. Since you have two files, one with daily data and the other with hourly data, you can choose the appropriate file based on the timeframe you want to work with\n",
    "\n",
    "Calculate EMA: Use the talib library or implement a function to calculate the 200 EMA for the price data. Here's an example of how to calculate the EMA of a stock with Python\n",
    "Implement the Strategy: Once you have the price data and the EMA values, you can implement the crossover strategy. For a buy signal, you can use the condition \"price > 200 EMA,\" and for a sell signal, the opposite condition can be used\n",
    "Backtesting: It's essential to backtest the strategy to evaluate its performance. You can use a simple 5-step framework to backtest your strategy and evaluate its performance\n",
    "Visualization: Visualize the price data and the EMA values to gain a better understanding of the strategy's performance. You can use libraries like matplotlib for this purpose"
   ]
  },
  {
   "cell_type": "markdown",
   "id": "e60308a0-e6aa-49ef-b7e5-7546c63a3ef9",
   "metadata": {},
   "source": [
    "### Another project"
   ]
  },
  {
   "cell_type": "code",
   "execution_count": 27,
   "id": "84951803",
   "metadata": {},
   "outputs": [],
   "source": [
    "import talib\n",
    "# Assuming you have a pandas DataFrame called 'data' with a column 'close' containing the stock's closing prices\n",
    "data[\"200EMA\"] = talib.EMA(data[\"close\"], timeperiod=200)"
   ]
  },
  {
   "cell_type": "code",
   "execution_count": 28,
   "id": "0aff9992-67ab-45a6-b5b6-b18e4b3f2a3b",
   "metadata": {},
   "outputs": [
    {
     "ename": "NameError",
     "evalue": "name 'daych' is not defined",
     "output_type": "error",
     "traceback": [
      "\u001b[0;31m---------------------------------------------------------------------------\u001b[0m",
      "\u001b[0;31mNameError\u001b[0m                                 Traceback (most recent call last)",
      "Cell \u001b[0;32mIn[28], line 3\u001b[0m\n\u001b[1;32m      1\u001b[0m \u001b[38;5;66;03m# Create a column to signal when the price crosses above the 200 EMA\u001b[39;00m\n\u001b[1;32m      2\u001b[0m data[\u001b[38;5;124m'\u001b[39m\u001b[38;5;124mSignal\u001b[39m\u001b[38;5;124m'\u001b[39m] \u001b[38;5;241m=\u001b[39m \u001b[38;5;241m0\u001b[39m\n\u001b[0;32m----> 3\u001b[0m data[\u001b[38;5;124m'\u001b[39m\u001b[38;5;124mSignal\u001b[39m\u001b[38;5;124m'\u001b[39m][data[\u001b[38;5;124m'\u001b[39m\u001b[38;5;124mclose\u001b[39m\u001b[38;5;124m'\u001b[39m] \u001b[38;5;241m>\u001b[39m \u001b[43mdaych\u001b[49m[\u001b[38;5;124m'\u001b[39m\u001b[38;5;124mEMA\u001b[39m\u001b[38;5;124m'\u001b[39m]] \u001b[38;5;241m=\u001b[39m \u001b[38;5;241m1\u001b[39m\n\u001b[1;32m      5\u001b[0m \u001b[38;5;66;03m# Create a column to signal when the price crosses below the 200 EMA\u001b[39;00m\n\u001b[1;32m      6\u001b[0m data[\u001b[38;5;124m'\u001b[39m\u001b[38;5;124mSignal\u001b[39m\u001b[38;5;124m'\u001b[39m][data[\u001b[38;5;124m'\u001b[39m\u001b[38;5;124mclose\u001b[39m\u001b[38;5;124m'\u001b[39m] \u001b[38;5;241m<\u001b[39m daych[\u001b[38;5;124m'\u001b[39m\u001b[38;5;124mEMA\u001b[39m\u001b[38;5;124m'\u001b[39m]] \u001b[38;5;241m=\u001b[39m \u001b[38;5;241m-\u001b[39m\u001b[38;5;241m1\u001b[39m\n",
      "\u001b[0;31mNameError\u001b[0m: name 'daych' is not defined"
     ]
    }
   ],
   "source": [
    "# Create a column to signal when the price crosses above the 200 EMA\n",
    "data['Signal'] = 0\n",
    "data['Signal'][data['close'] > daych['EMA']] = 1\n",
    "\n",
    "# Create a column to signal when the price crosses below the 200 EMA\n",
    "data['Signal'][data['close'] < daych['EMA']] = -1\n",
    "\n",
    "# Display the data with signals\n",
    "print(data[['close', 'EMA', 'Signal']].head())\n"
   ]
  },
  {
   "cell_type": "code",
   "execution_count": null,
   "id": "64c9eeb5-5926-4032-8313-fc120b039f09",
   "metadata": {},
   "outputs": [],
   "source": [
    "import pandas as pd\n",
    "\n",
    "# Load historical price data\n",
    "daych = pd.read_csv('1d.csv')\n",
    "data = pd.read_csv('1h.csv')\n",
    "\n",
    "# Convert 'time' column to datetime\n",
    "data['time'] = pd.to_datetime(data['time'])\n",
    "daych['time'] = pd.to_datetime(daych['time'])\n",
    "\n",
    "# Set 'time' as the index\n",
    "data.set_index('time', inplace=True)\n",
    "daych.set_index('time', inplace=True)\n",
    "\n",
    "# Create a column to signal when the price crosses above the 200 EMA\n",
    "data['Signal'] = 0\n",
    "data.loc[data['close'] > daych['EMA'], 'Signal'] = 1\n",
    "\n",
    "# Create a column to signal when the price crosses below the 200 EMA\n",
    "data.loc[data['close'] < daych['EMA'], 'Signal'] = -1\n",
    "\n",
    "# Display the data with signals\n",
    "print(data[['close', 'EMA', 'Signal']].head())\n"
   ]
  },
  {
   "cell_type": "code",
   "execution_count": null,
   "id": "733f24e2-eabb-4d23-86da-287567de2919",
   "metadata": {},
   "outputs": [],
   "source": []
  }
 ],
 "metadata": {
  "kernelspec": {
   "display_name": "Python 3 (ipykernel)",
   "language": "python",
   "name": "python3"
  },
  "language_info": {
   "codemirror_mode": {
    "name": "ipython",
    "version": 3
   },
   "file_extension": ".py",
   "mimetype": "text/x-python",
   "name": "python",
   "nbconvert_exporter": "python",
   "pygments_lexer": "ipython3",
   "version": "3.10.13"
  }
 },
 "nbformat": 4,
 "nbformat_minor": 5
}
